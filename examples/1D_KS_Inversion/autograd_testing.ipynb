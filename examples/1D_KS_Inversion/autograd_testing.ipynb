{
 "cells": [
  {
   "cell_type": "code",
   "execution_count": 1,
   "metadata": {
    "collapsed": true
   },
   "outputs": [],
   "source": [
    "import torch\n",
    "import numpy as np\n",
    "import scipy\n",
    "import matplotlib.pyplot as plt"
   ]
  },
  {
   "cell_type": "code",
   "execution_count": 2,
   "outputs": [],
   "source": [
    "# load data and make necessary vectors\n",
    "\n",
    "data = np.loadtxt('harmonic_oscillator_grnd.txt')\n",
    "xl = data[:,1]\n",
    "ef = data[:,2]\n",
    "xl = torch.from_numpy(xl)\n",
    "xl.requires_grad = True\n",
    "ef = torch.from_numpy(ef)\n",
    "ef.requires_grad = True\n",
    "normx = torch.empty(len(xl))\n",
    "grads = torch.ones(len(normx))\n",
    "for i,x in enumerate(xl):\n",
    "    normx[i] = 1/x\n",
    "\n",
    "# multiply vectors to create graph\n",
    "\n",
    "norm = xl*normx\n",
    "ef_x = ef*norm"
   ],
   "metadata": {
    "collapsed": false,
    "pycharm": {
     "name": "#%%\n"
    }
   }
  },
  {
   "cell_type": "code",
   "execution_count": 3,
   "outputs": [],
   "source": [
    "#backwards propagate\n",
    "\n",
    "ef_x.backward(grads)"
   ],
   "metadata": {
    "collapsed": false,
    "pycharm": {
     "name": "#%%\n"
    }
   }
  },
  {
   "cell_type": "code",
   "execution_count": 3,
   "outputs": [],
   "source": [],
   "metadata": {
    "collapsed": false,
    "pycharm": {
     "name": "#%%"
    }
   }
  }
 ],
 "metadata": {
  "kernelspec": {
   "display_name": "Python 3",
   "language": "python",
   "name": "python3"
  },
  "language_info": {
   "codemirror_mode": {
    "name": "ipython",
    "version": 2
   },
   "file_extension": ".py",
   "mimetype": "text/x-python",
   "name": "python",
   "nbconvert_exporter": "python",
   "pygments_lexer": "ipython2",
   "version": "2.7.6"
  }
 },
 "nbformat": 4,
 "nbformat_minor": 0
}